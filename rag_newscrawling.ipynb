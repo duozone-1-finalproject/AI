{
 "cells": [
  {
   "cell_type": "code",
   "execution_count": 1,
   "id": "f69b4f4c",
   "metadata": {},
   "outputs": [
    {
     "name": "stdout",
     "output_type": "stream",
     "text": [
      "Requirement already satisfied: trafilatura in c:\\users\\jyjj0\\appdata\\local\\programs\\python\\python311\\lib\\site-packages (2.0.0)\n",
      "Requirement already satisfied: certifi in c:\\users\\jyjj0\\appdata\\local\\programs\\python\\python311\\lib\\site-packages (from trafilatura) (2023.7.22)\n",
      "Requirement already satisfied: charset_normalizer>=3.4.0 in c:\\users\\jyjj0\\appdata\\local\\programs\\python\\python311\\lib\\site-packages (from trafilatura) (3.4.2)\n",
      "Requirement already satisfied: courlan>=1.3.2 in c:\\users\\jyjj0\\appdata\\local\\programs\\python\\python311\\lib\\site-packages (from trafilatura) (1.3.2)\n",
      "Requirement already satisfied: htmldate>=1.9.2 in c:\\users\\jyjj0\\appdata\\local\\programs\\python\\python311\\lib\\site-packages (from trafilatura) (1.9.3)\n",
      "Requirement already satisfied: justext>=3.0.1 in c:\\users\\jyjj0\\appdata\\local\\programs\\python\\python311\\lib\\site-packages (from trafilatura) (3.0.2)\n",
      "Requirement already satisfied: lxml>=5.3.0 in c:\\users\\jyjj0\\appdata\\local\\programs\\python\\python311\\lib\\site-packages (from trafilatura) (5.4.0)\n",
      "Requirement already satisfied: urllib3<3,>=1.26 in c:\\users\\jyjj0\\appdata\\local\\programs\\python\\python311\\lib\\site-packages (from trafilatura) (2.0.4)\n",
      "Requirement already satisfied: babel>=2.16.0 in c:\\users\\jyjj0\\appdata\\local\\programs\\python\\python311\\lib\\site-packages (from courlan>=1.3.2->trafilatura) (2.17.0)\n",
      "Requirement already satisfied: tld>=0.13 in c:\\users\\jyjj0\\appdata\\local\\programs\\python\\python311\\lib\\site-packages (from courlan>=1.3.2->trafilatura) (0.13.1)\n",
      "Requirement already satisfied: dateparser>=1.1.2 in c:\\users\\jyjj0\\appdata\\local\\programs\\python\\python311\\lib\\site-packages (from htmldate>=1.9.2->trafilatura) (1.2.2)\n",
      "Requirement already satisfied: python-dateutil>=2.9.0.post0 in c:\\users\\jyjj0\\appdata\\local\\programs\\python\\python311\\lib\\site-packages (from htmldate>=1.9.2->trafilatura) (2.9.0.post0)\n",
      "Requirement already satisfied: pytz>=2024.2 in c:\\users\\jyjj0\\appdata\\local\\programs\\python\\python311\\lib\\site-packages (from dateparser>=1.1.2->htmldate>=1.9.2->trafilatura) (2025.2)\n",
      "Requirement already satisfied: regex>=2024.9.11 in c:\\users\\jyjj0\\appdata\\local\\programs\\python\\python311\\lib\\site-packages (from dateparser>=1.1.2->htmldate>=1.9.2->trafilatura) (2025.7.34)\n",
      "Requirement already satisfied: tzlocal>=0.2 in c:\\users\\jyjj0\\appdata\\local\\programs\\python\\python311\\lib\\site-packages (from dateparser>=1.1.2->htmldate>=1.9.2->trafilatura) (5.3.1)\n",
      "Requirement already satisfied: lxml_html_clean in c:\\users\\jyjj0\\appdata\\local\\programs\\python\\python311\\lib\\site-packages (from lxml[html_clean]>=4.4.2->justext>=3.0.1->trafilatura) (0.4.2)\n",
      "Requirement already satisfied: six>=1.5 in c:\\users\\jyjj0\\appdata\\local\\programs\\python\\python311\\lib\\site-packages (from python-dateutil>=2.9.0.post0->htmldate>=1.9.2->trafilatura) (1.16.0)\n",
      "Requirement already satisfied: tzdata in c:\\users\\jyjj0\\appdata\\local\\programs\\python\\python311\\lib\\site-packages (from tzlocal>=0.2->dateparser>=1.1.2->htmldate>=1.9.2->trafilatura) (2025.2)\n"
     ]
    },
    {
     "name": "stderr",
     "output_type": "stream",
     "text": [
      "DEPRECATION: Loading egg at c:\\users\\jyjj0\\appdata\\local\\programs\\python\\python311\\lib\\site-packages\\py_hanspell-1.1-py3.11.egg is deprecated. pip 24.3 will enforce this behaviour change. A possible replacement is to use pip for package installation.. Discussion can be found at https://github.com/pypa/pip/issues/12330\n",
      "\n",
      "[notice] A new release of pip is available: 24.0 -> 25.2\n",
      "[notice] To update, run: python.exe -m pip install --upgrade pip\n"
     ]
    }
   ],
   "source": [
    "!pip install trafilatura"
   ]
  },
  {
   "cell_type": "code",
   "execution_count": 6,
   "id": "55b79932",
   "metadata": {},
   "outputs": [],
   "source": [
    "import requests\n",
    "import trafilatura\n",
    "import json \n",
    "from bs4 import BeautifulSoup   "
   ]
  },
  {
   "cell_type": "code",
   "execution_count": null,
   "id": "b2eff5e1",
   "metadata": {},
   "outputs": [
    {
     "name": "stdout",
     "output_type": "stream",
     "text": [
      "\n",
      "[1] 기사 크롤링 중...\n",
      "1. 제목: SK하이닉스 가고 삼성전자의 시간?…'9만원'까지 높아진 눈높이\n",
      "1. 본문:\n",
      "[뉴스토마토 신유미 기자]\n",
      "삼성전자(005930)에 대한 증권가의 기대가 빠르게 회복되고 있습니다. 하반기 들어 증권사 대부분이 삼성전자의 목표주가를 상향 조정하며 투자의견 '매수'를 유지했습니다. 이와 달리\n",
      "SK하이닉스(000660)는 리포트 대부분이 기존 전망을 유지하거나 보수적으로 수정되며, 외국인 수급과 주가 흐름에서도 뚜렷한 온도 차를 드러냈습니다.\n",
      "8일 에프앤가이드에 따르면 하반기 삼성전자 리포트를 발간한 증권사 24곳 중 19곳이 삼성전자의 목표주가를 상향 조정한 것으로 집계됐습니다. 이들 증권사가 제시한 평균 목표주가는 8만4042원으로, 직전 평균인 7만7667원 대비 8.21% 상향 조정됐습니다.\n",
      "같은 기간 SK하이닉스 리포트를 발간한 증권사 24곳 중 주가를 올려 잡은 곳은 7곳에 불과했고, 나머지는 기존과 같은 목표주가를 설정했습니다. 삼성전자는 투자 의견 '매수'를 유지하는 리포트만 쏟아진 반면 SK하이닉스는 네 곳의 증권사에서 '중립' 리포트가 나왔습니다.\n",
      "외국인들의 무게추도 삼성전자로 이동했습니다. 하반기 들어 외국인은 삼성전자를 전일까지 3조1790억원 사들였습니다. 반면 SK하이닉스는 1620억원을 매도했습니다. 해당 기간 삼성전자는 17.89% 상승해 7만전자를 회복했지만, SK하이닉스는 10.27% 하락해 25만원 선에서 움직이고 있습니다.\n",
      "최근 사법리스크를 해소한 데다 테슬라, 애플 수주까지 이어지며 기대감이 커지고 있습니다. 지난달 17일 이재용 삼성전자 회장의 경영권 승계 등과 관련한 사법 리스크가 해소된 데다 약 22조원 규모의 인공지능(AI) 칩 공급 계약을 따내고, 이어 전일 애플과 차세대 칩 공급 계약까지 체결하면서 삼성전자가 본격적인 회복 기로에 들어섰다는 평가가 나옵니다.\n",
      "김동원 KB증권 연구원은 \"삼성전자 목표주가 9만원, 투자 의견 매수를 유지하고 반도체 업종 최선호주로 제시한다\"며 \"올 하반기부터 실적 개선이 본격 시작되는 가운데 향후 HBM과 파운드리 실적 우려는 기대로 전환되며 실적 회복의 시간만 남은 것으로 판단되기 때문\"이라고 분석했습니다.\n",
      "상반기 주가 상승 흐름을 보였던 SK하이닉스는 악재에 민감한 구간에 들어섰다는 평가가 나옵니다. 김용구 유안타증권 연구원은 지난달 21일 리포트를 내고 \"삼성전자는 선반영 악재 둔감·미반영 호재 민감, SK하이닉스는 선반영 호재 둔감·미반영 악재 민감으로의 주가 성격 변화 변곡점에 진입했고, 삼성전자 주가 반등의 쌍끌이 트리거인 외국인 러브콜과 자사주 매입·소각이 부활했다\"며 \"이제는 SK하이닉스를 팔고 삼성전자를 사는 게 맞다\"고 평가했습니다.\n",
      "SK하이닉스 투자의견을 하향한 서승연 DB증권 연구원은 \"목표주가는 밸류에이션 구간 변경(2025년→2026년)과 메모리 미드 사이클 주가순자산비율(PBR) 1.6배를 적용해 29만원을 유지하나 현재 주가와 괴리율 축소로 투자 의견은 중립으로 하향한다\"고 밝혔습니다.\n",
      "다만 도널드 트럼프 미국 대통령의 관세정책은 여전히 불확실한 변수입니다. 트럼프 대통령이 전일 \"반도체에 100% 관세를 부과할 것\"이라고 밝히면서 국내 반도체 업계는 긴장의 끈을 놓지 못하고 있습니다. 다만 그는 \"만약 미국에 (반도체 제조 공장을) 건설한다면 부과되지 않을 것\"이라고 덧붙였습니다.\n",
      "이와 관련해 삼성증권 리서치센터는 \"트럼프 대통령의 발언은 미국에 투자하면 반도체 품목 관세에서 자유로울 수 있음을 시사한다\"며 \"AI 반도체 공급망은 이미 무관세 요건을 충족하고, 관세 우려 해소 차원에서 모든 테크 기업이 승자\"라고 해석했습니다.\n",
      "서울 삼성전자 서초 사옥에 삼성 깃발이 바람에 휘날리고 있다. (사진=뉴시스)\n",
      "신유미 기자 yumix@etomato.com\n",
      "이 기사는 뉴스토마토 보도준칙 및 윤리강령에 따라 고재인 자본시장정책부장이 최종 확인·수정했습니다.\n",
      "ⓒ 맛있는 뉴스토마토, 무단 전재 - 재배포 금지...\n",
      "\n",
      "[2] 기사 크롤링 중...\n",
      "2. 제목: “증권사 보고서, 간만에 체면 세웠네”...예상대로 움직인 삼전·하이닉스 - 매일경제\n",
      "2. 본문:\n",
      "애플과 협력 소식에 주가상승\n",
      "‘HBM 경쟁 심화’ 예측 적중\n",
      "SK하이닉스 30만원서 하락\n",
      "국내 증시의 대표 종목인 삼성전자와 SK하이닉스가 증권사의 리포트와 유사하게 주가가 엇갈리고 있다. ‘30만닉스’를 달성한 SK하이닉스는 부진한 가운데 삼성전자는 글로빌 빅테크 기업인 테슬라와 애플과의 계약을 바탕으로 주가가 반등하고 있다.\n",
      "7일 한국거래소에 따르면 이날 삼성전자는 전날보다 2.47% 오른 7만500원에 거래를 마쳤다. 삼성전자는 지난해 10월부터 5만원 선에 머물며 주가가 침체된 모습을 보였으나 근래 들어 6만원 선을 돌파한 데 이어 ‘7만전자’를 달성했다.\n",
      "SK하이닉스는 고대역폭메모리(HBM)의 경쟁 심화 여파로 지난달 넘어선 30만원 고지를 반납하고 이날 26만원대에 머물렀다. 지난달 종가 기준 고점과 대비해서는 주가가 이날 12.67% 떨어진 상황이다.\n",
      "국내 증시의 대표적인 두 종목 주가 흐름이 국내 증권가의 전망과 유사하게 흘러가는 모양새다.\n",
      "삼성전자의 경우 주가가 지난달부터 우상향하고 있지만 증권사들은 투자 의견을 ‘매수’로 유지하고 목표 주가도 일제히 상향했다.\n",
      "반면 지난 6월 30만원 선을 돌파한 SK하이닉스의 경우 증권사들은 주가 상승폭이 과도했다고 판단하면서 투자 의견을 ‘중립’으로 하향했다.\n",
      "지난달 25일 DB증권은 SK하이닉스 목표가를 29만원으로 유지하고 투자 의견을 ‘중립’으로 하향 조정했다. 같은 날 iM증권도 투자 의견 ‘중립’을 유지한 반면 목표가를 28만원까지 올렸다.\n",
      "SK하이닉스 주가가 30만원 고지에 오른 지난달 14일 미래에셋증권은 목표가를 30만원까지 상향 조정하면서 적정 가치에 도달했다며 투자 의견을 하향하기도 했다.\n",
      "반면 삼성전자는 증권사들이 주가 상승에 맞춰 목표가와 투자 의견을 높이고 있다. 이날에는 KB증권이 삼성전자의 목표가로 9만원을 제시하면서 밸류에이션(평가 가치)에 대해 회의적인 의견을 내기보다는 회복 국면에 들어섰다고 진단했다.\n",
      "강다현 KB증권 연구원은 “하반기부터 실적 개선이 시작되면서 HBM과 파운더리 관련 우려가 기대로 전환될 것”이라며 “내년부터 HBM 시장은 수요자 중심으로 변화하면서 삼성전자가 최대 수혜를 볼 것”이라고 말했다.\n",
      "삼성전자 주가 상승은 애플과의 파운더리 협력 영향으로 분석된다. 애플은 6일(현지시간) “미국 텍사스주 오스틴에 위치한 삼성의 반도체 공장에서 삼성과 협력해 혁신적인 새로운 칩 제조 기술을 개발하고 있다. 이 시설은 아이폰을 포함한 애플 제품의 전력 효율성과 성능을 최적화하는 칩을 공급하게 될 것”이라고 밝혔다.\n",
      "박강호 대신증권 연구원은 “애플이 도널드 트럼프 미국 대통령의 품목 관세 압력에 대응해 미국 내 밸류체인을 조성하는 데 삼성전자의 (텍사스) 오스틴 공장이 선택된 것이므로 굉장히 좋은 뉴스”라며 “1분기에 컸던 파운드리 적자도 줄어들고 엔비디아에 HBM을 공급할 것이라는 기대도 여전히 있어 주가가 오른 것으로 보인다”고 설명했다.\n",
      "삼성전자는 지난달 28일에도 테슬라와의 23조원 규모 파운더리 계약을 공시한 바 있다. 테슬라발 호재로 이날 삼성전자 주가는 6.83% 급등하며 11개월 만에 ‘7만전자’에 등극했다....\n",
      "\n",
      "[3] 기사 크롤링 중...\n",
      "3. 제목: 트럼프 '반도체 100% 관세' 경고에도…삼성전자·SK하이닉스 주가는 선방 | 아주경제\n",
      "3. 본문:\n",
      "도널드 트럼프 미국 대통령이 반도체에 최대 100%의 관세를 부과하겠다고 경고했지만, 삼성전자와 SK하이닉스의 주가는 오히려 상승세를 보였다. 기업들이 이미 관세 리스크에 대비하고 있는 데다 애플 등 글로벌 기업과 협력 확대 소식이 불안 심리를 상쇄했다는 분석이다.\n",
      "7일 한국거래소에 따르면 이날 삼성전자는 전 거래일 대비 2.42% 오른 7만500원에 마감했다. SK하이닉스도 1.35% 상승하며 26만5000원에 장을 마쳤다.\n",
      "트럼프 대통령의 발언에도 삼성전자가 상승한 배경에는 애플과의 협업 소식이 있다. 애플은 이날 삼성전자와 함께 차세대 칩을 생산할 계획이라고 밝혔다.\n",
      "아울러 트럼프 대통령은 “이미 미국 내 생산을 하거나 생산을 약속한 기업은 예외”라며 관세 면제 가능성을 시사했다. 국내 반도체 기업들은 이에 대비해 미국 내 생산시설을 이미 확충하고 있는 상황이다.\n",
      "삼성전자는 미국 텍사스주 오스틴에 파운드리(반도체 위탁생산) 공장을 운영 중이며, 애플의 차세대 칩 역시 이 공장에서 생산될 예정이다. 삼성전자는 최근 테슬라로부터 대형 파운드리 수주를 따냈다는 소식도 전해지며 실적 개선 기대감이 높아지고 있다. SK하이닉스 역시 미국 인디애나주에 고대역폭메모리(HBM) 패키징 및 연구개발(R&D) 시설을 구축 중이다.\n",
      "기업들의 이 같은 움직임은 인공지능(AI) 수요 폭증에 따른 미국 내 생산 거점 확보이자, 향후 미국의 무역 장벽에 선제적으로 대응하기 위한 전략이다. 전문가들은 글로벌 생산 전략에 따라 국내 반도체 기업들의 중장기적 구조 재편이 이뤄질 것으로 전망한다. 대량 생산은 미국 등 해외에서 고난이도 미세공정이나 설계 등 고부가가치 공정은 한국 본사에서 수행하는 방식으로 생산 포트폴리오가 재구성될 수 있다는 설명이다.\n",
      "한편 이날 주가가 상승했음에도 트럼프의 관세 발언이 주요 반도체주의 단기 변동성을 키우는 요인으로 작용할 수 있다는 우려도 제기된다.\n",
      "한지영 키움증권 연구원은 “반도체 관세와 관련해 아직 구체적인 내용이 나오진 않았고, 향후 협상을 통해 국가 간 관세율 조정 가능성도 열려 있다”며 “관세 관련 불확실성이 단기간에 해소되긴 어려운 만큼, 이는 최근 고점 부담이 있는 시장에 단기적인 변동성을 유발할 수 있다”고 말했다.\n",
      "©'5개국어 글로벌 경제신문' 아주경제. 무단전재·재배포 금지...\n",
      "\n",
      "[4] 기사 크롤링 중...\n",
      "4. 제목: 삼성전자 주가 '7만 전자' 넘어 도약한 배경은? < 종합 < 경제 < 기사본문 - 국제뉴스\n",
      "4. 본문:\n",
      "삼성전자, 테슬라 이어 애플에도 칩 공급 확정\n",
      "美 오스틴 파운드리서 차세대 기술 협력\n",
      "삼성전자 주가가 장초반 상승 중이다.\n",
      "8일 오전 9시 7분 기준 삼성전자는 전 거래일 대비 0.99% 오른 7만 1200원에 거래되고 있다.\n",
      "삼성전자가 테슬라에 이어 애플에도 반도체 칩을 공급하며 파운드리(반도체 위탁생산) 사업 확장을 가속화하고 있다. 애플은 6일(현지시각) 보도자료를 통해 삼성전자와의 협력 사실을 공식 발표했다.\n",
      "애플은 \"미국 텍사스주 오스틴에 있는 삼성의 반도체 공장에서 삼성과 협력해 전 세계에서 처음 사용되는 혁신적인 새로운 칩 제조 기술을 개발하고 있다\"고 밝혔다.\n",
      "애플은 이 기술이 미국에 먼저 도입되어 아이폰을 포함한 자사 제품의 전력 효율성과 성능을 최적화하는 칩을 전 세계로 공급할 예정이라고 덧붙였다.\n",
      "로이터통신에 따르면, 이번 성명은 애플이 미국 내 투자를 1천억 달러 더 늘릴 것이라는 발표의 일환으로 이루어졌으며, 이를 통해 향후 4년간 미국 내 투자 규모는 총 6천억 달러에 달하게 된다.\n",
      "잇따른 대형 고객사 확보 소식에 삼성전자 주가는 시장의 긍정적인 반응을 얻고 있다.\n",
      "관련기사\n",
      "한경상 기자\n",
      "hanga26@naver.com...\n",
      "\n",
      "[5] 기사 크롤링 중...\n",
      "5. 제목: 삼성전자 주가 장중 7만 원대 회복, 애플 공급 계약 호재 반영\n",
      "5. 본문:\n",
      "| ▲ 삼성전자 주가가 7일 장중 7만 원대를 회복했다. <그래픽 비즈니스포스트> |\n",
      "<저작권자(c) 비즈니스포스트 무단전재 및 재배포금지>\n",
      "박재용 기자의 다른기사보기| 이승훈 세한대 총장은 오뚝이? '교비 횡령' 복권 뒤 복귀해 다시 등록금 빼돌리기 논란 |\n",
      "| 백석대 횡령으로 복역 뒤 사면받아 총장 복귀한 장종현, 그 뒤에도 비리 논란 이어져 |\n",
      "| 삼성물산 원전 시공에서 SMR 중심 EPC로 전환 중, 오세철 SMR 선도업체와 협력 구축 |\n",
      "| 중국 SMIC '엔비디아 대체' 수요에 파운드리 수혜, \"미국 관세 타격은 미미\" |\n",
      "| 하나증권 \"카카오 장래희망은 SNS+AI, 선도적 AI 서비스 긍정적\" |\n",
      "| 시중은행 퇴직연금 IRP 경쟁 갈수록 열세, 로보어드바이저로 돌파구 마련할까 |\n",
      "| 교보증권 \"넷마블 지난해 '나혼렙'이 너무 좋았다, 내년 신작 많다\" |\n",
      "| 비트코인 1억6086만 원대, 리플 소송 종결에 블랙록 '엑스알피ETF' 신청 가능성 |\n",
      "| [오늘의 주목주] '고평가 부담' 한화에어로스페이스 5%대 하락, 코스닥 원익IPS 1.. |\n",
      "| LG화학 깊어지는 석화 부진의 늪, 신학철 체질개선 속 버티기 온 힘 |\n",
      "| 유한양행 임플란트 사업파트너 교체, 조욱제 워랜텍 손절하고 신흥 손잡은 이유 |\n",
      "| [현장] \"비트코인 정말 채굴하나요?\", 아울렛 찾은 빗썸 팝업에 모이는 관심 |\n",
      "| 한국GM 직영서비스센터 이어 직영브랜드 판매권 매각 의혹까지, 사실상 '내수 포기'에 .. |...\n"
     ]
    }
   ],
   "source": [
    "# BeautifulSoup은 제목 추출\n",
    "# trafilatura로 본문 추출\n",
    "\n",
    "urls = [ #예시.. 추후에는 json으로 넣을 예정\n",
    "    \"https://www.newstomato.com/ReadNews.aspx?no=1271160\",\n",
    "    \"https://www.mk.co.kr/news/stock/11388101\",\n",
    "    \"https://www.ajunews.com/view/20250807150226638\",\n",
    "    \"https://www.gukjenews.com/news/articleView.html?idxno=3345548\",\n",
    "    \"https://www.businesspost.co.kr/BP?command=article_view&num=406669\"\n",
    "\n",
    "]\n",
    "\n",
    "articles = []\n",
    "\n",
    "for i, url in enumerate(urls, start=1):\n",
    "    print(f\"\\n[{i}] 기사 크롤링 중...\")\n",
    "\n",
    "    response = requests.get(url)\n",
    "    html = response.text\n",
    "\n",
    "    soup = BeautifulSoup(html, 'html.parser')\n",
    "\n",
    "    title_tag = soup.find('title')\n",
    "    title = title_tag.get_text(strip=True) if title_tag else None\n",
    "\n",
    "    if not title or title.strip() == '':\n",
    "        h1_tag = soup.find('h1')\n",
    "        title = h1_tag.get_text(strip=True) if h1_tag else '제목 없음'\n",
    "\n",
    "    downloaded = trafilatura.fetch_url(url)\n",
    "    result = trafilatura.extract(downloaded, output_format=\"json\", include_comments=False)\n",
    "\n",
    "    if result:\n",
    "        parsed_result = json.loads(result)\n",
    "        text = parsed_result.get('text', '본문 없음')\n",
    "    else:\n",
    "        text = '본문 추출 실패'\n",
    "\n",
    "    print(f\"{i}. 제목: {title}\")\n",
    "    print(f\"{i}. 본문:\\n{text}...\")\n",
    "\n",
    "    articles.append({\n",
    "        \"번호\": i,\n",
    "        \"url\": url,\n",
    "        \"title\": title,\n",
    "        \"text\": text\n",
    "    })"
   ]
  },
  {
   "cell_type": "code",
   "execution_count": null,
   "id": "cc0d1173",
   "metadata": {},
   "outputs": [
    {
     "name": "stdout",
     "output_type": "stream",
     "text": [
      "\n",
      "✅ 모든 기사 출력 및 저장 완료 → articles.json 생성됨\n"
     ]
    }
   ],
   "source": [
    "# JSON 파일로 저장\n",
    "with open(\"articles.json\", \"w\", encoding=\"utf-8\") as f:\n",
    "    json.dump(articles, f, ensure_ascii=False, indent=2)\n",
    "\n",
    "print(\"\\n✅ 파일명: articles.json\")"
   ]
  }
 ],
 "metadata": {
  "kernelspec": {
   "display_name": "Python 3",
   "language": "python",
   "name": "python3"
  },
  "language_info": {
   "codemirror_mode": {
    "name": "ipython",
    "version": 3
   },
   "file_extension": ".py",
   "mimetype": "text/x-python",
   "name": "python",
   "nbconvert_exporter": "python",
   "pygments_lexer": "ipython3",
   "version": "3.11.5"
  }
 },
 "nbformat": 4,
 "nbformat_minor": 5
}
